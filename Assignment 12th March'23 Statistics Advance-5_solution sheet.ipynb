{
 "cells": [
  {
   "cell_type": "markdown",
   "id": "14743313-a0ca-425b-a35f-b6d1d44dfc26",
   "metadata": {},
   "source": [
    "**Q1.** Calculate the 95% confidence interval for a sample of data with a mean of 50 and a standard deviation of 5 using Python. Interpret the results."
   ]
  },
  {
   "cell_type": "code",
   "execution_count": 2,
   "id": "da4f6676-64da-4405-885c-6a94f56d7c6e",
   "metadata": {},
   "outputs": [
    {
     "name": "stdout",
     "output_type": "stream",
     "text": [
      "The 95% confidence interval is (49.00789152424566, 50.99210847575434)\n"
     ]
    }
   ],
   "source": [
    "from scipy import stats\n",
    "\n",
    "# Sample mean\n",
    "mean = 50\n",
    "\n",
    "# Standard deviation\n",
    "std_dev = 5\n",
    "\n",
    "# Sample size\n",
    "n = 100\n",
    "\n",
    "# Degrees of freedom\n",
    "df = n - 1\n",
    "\n",
    "# Calculate the standard error\n",
    "std_err = std_dev / (n ** 0.5)\n",
    "\n",
    "# Calculate the t-value\n",
    "t_value = stats.t.ppf(0.975, df)\n",
    "\n",
    "# Calculate the margin of error\n",
    "margin_of_error = t_value * std_err\n",
    "\n",
    "# Calculate the confidence interval\n",
    "conf_interval = (mean - margin_of_error, mean + margin_of_error)\n",
    "\n",
    "print(f\"The 95% confidence interval is {conf_interval}\")"
   ]
  },
  {
   "cell_type": "markdown",
   "id": "34c45caf-30a3-41b4-9b2e-e0512002147a",
   "metadata": {},
   "source": [
    "**Interpretation:**\n",
    "\n",
    "The 95% confidence interval is (48.095066725352345, 51.904933274647655). This means that if we were to take many random samples of the same size from the population, we would expect the mean of the samples to fall within this interval 95% of the time. In other words, we are 95% confident that the true population mean falls within this interval. Since the interval does not include zero, we can conclude that the mean of our sample is significantly different from zero at the 95% confidence level."
   ]
  },
  {
   "cell_type": "markdown",
   "id": "961cc80a-b67e-4053-836d-f4108e1280e6",
   "metadata": {},
   "source": [
    "Q2. Conduct a chi-square goodness of fit test to determine if the distribution of colors of M&Ms in a bag matches the expected distribution of 20% blue, 20% orange, 20% green, 10% yellow, 10% red, and 20% brown. Use Python to perform the test with a significance level of 0.05."
   ]
  },
  {
   "cell_type": "code",
   "execution_count": 3,
   "id": "6f5502e8-4760-4ca5-9423-ccc864b4b957",
   "metadata": {},
   "outputs": [
    {
     "name": "stdout",
     "output_type": "stream",
     "text": [
      "Chi-square statistic: 2.5\n",
      "p-value: 0.7764950711233227\n",
      "Fail to reject null hypothesis: observed frequencies do not differ significantly from expected frequencies.\n"
     ]
    }
   ],
   "source": [
    "import numpy as np\n",
    "from scipy.stats import chisquare\n",
    "\n",
    "# observed frequencies\n",
    "observed_freq = np.array([25, 20, 15, 10, 10, 20])\n",
    "\n",
    "# expected frequencies\n",
    "expected_freq = np.array([.2, .2, .2, .1, .1, .2]) * sum(observed_freq)\n",
    "\n",
    "# perform chi-square test\n",
    "chi_sq, p = chisquare(observed_freq, f_exp=expected_freq)\n",
    "\n",
    "# print results\n",
    "print(\"Chi-square statistic:\", chi_sq)\n",
    "print(\"p-value:\", p)\n",
    "if p < 0.05:\n",
    "    print(\"Reject null hypothesis: observed frequencies differ significantly from expected frequencies.\")\n",
    "else:\n",
    "    print(\"Fail to reject null hypothesis: observed frequencies do not differ significantly from expected frequencies.\")\n"
   ]
  },
  {
   "cell_type": "markdown",
   "id": "661f0c08-5cbd-487d-89fa-bc72661948d9",
   "metadata": {},
   "source": [
    "Q3. Use Python to calculate the chi-square statistic and p-value for a contingency table with the following\n",
    "data:\n",
    "\n",
    "               Group A   Group B\n",
    "    Outcome 1    20        15\n",
    "\n",
    "    Outcome 2    10        25\n",
    "\n",
    "    Outcome 3    15        20\n",
    "\n",
    "Interpret the results of the test."
   ]
  },
  {
   "cell_type": "code",
   "execution_count": 4,
   "id": "70efd785-ee2d-4cdf-b600-84b568e0dbe5",
   "metadata": {},
   "outputs": [
    {
     "name": "stdout",
     "output_type": "stream",
     "text": [
      "Chi-square statistic: 5.833333333333334\n",
      "p-value: 0.05411376622282158\n",
      "Fail to reject null hypothesis: there is no significant association between the outcomes and the groups.\n"
     ]
    }
   ],
   "source": [
    "import numpy as np\n",
    "from scipy.stats import chi2_contingency\n",
    "\n",
    "# create the contingency table\n",
    "observed = np.array([[20, 15], [10, 25], [15, 20]])\n",
    "\n",
    "# perform chi-square test\n",
    "chi_sq, p, dof, expected = chi2_contingency(observed)\n",
    "\n",
    "# print results\n",
    "print(\"Chi-square statistic:\", chi_sq)\n",
    "print(\"p-value:\", p)\n",
    "if p < 0.05:\n",
    "    print(\"Reject null hypothesis: there is a significant association between the outcomes and the groups.\")\n",
    "else:\n",
    "    print(\"Fail to reject null hypothesis: there is no significant association between the outcomes and the groups.\")\n"
   ]
  },
  {
   "cell_type": "markdown",
   "id": "877e97a0-3d26-4ed7-9bf0-95e91a3be49a",
   "metadata": {},
   "source": [
    "Q4. A study of the prevalence of smoking in a population of 500 individuals found that 60 individuals smoked. Use Python to calculate the 95% confidence interval for the true proportion of individuals in the population who smoke."
   ]
  },
  {
   "cell_type": "code",
   "execution_count": 5,
   "id": "76764c63-f19d-4821-a27f-8f95a2ecc923",
   "metadata": {},
   "outputs": [
    {
     "name": "stdout",
     "output_type": "stream",
     "text": [
      "95% confidence interval: (0.09437490012636912, 0.1514195986244106)\n"
     ]
    }
   ],
   "source": [
    "import statsmodels.stats.proportion as proportion\n",
    "\n",
    "n = 500\n",
    "smokers = 60\n",
    "alpha = 0.05\n",
    "\n",
    "lower, upper = proportion.proportion_confint(smokers, n, alpha=alpha, method='wilson')\n",
    "\n",
    "print(\"95% confidence interval:\", (lower, upper))"
   ]
  },
  {
   "cell_type": "markdown",
   "id": "d6ae6329-34af-4471-8f18-c3deed236af1",
   "metadata": {},
   "source": [
    "Q5. Calculate the 90% confidence interval for a sample of data with a mean of 75 and a standard deviation of 12 using Python. Interpret the results."
   ]
  },
  {
   "cell_type": "code",
   "execution_count": 8,
   "id": "b276414f-a8e4-4ee9-870f-0b50df669d99",
   "metadata": {},
   "outputs": [
    {
     "name": "stdout",
     "output_type": "stream",
     "text": [
      "90% confidence interval: (nan, nan)\n"
     ]
    }
   ],
   "source": [
    "import scipy.stats as stats\n",
    "\n",
    "data = [75]  # sample data\n",
    "n = len(data)\n",
    "mean = np.mean(data)\n",
    "std_dev = 12\n",
    "alpha = 0.1\n",
    "\n",
    "t_value = stats.t.ppf(1 - alpha/2, n-1)\n",
    "margin_of_error = t_value * std_dev / np.sqrt(n)\n",
    "lower_bound = mean - margin_of_error\n",
    "upper_bound = mean + margin_of_error\n",
    "\n",
    "print(\"90% confidence interval:\", (lower_bound, upper_bound))\n"
   ]
  },
  {
   "cell_type": "markdown",
   "id": "6afca7cd-b32e-4390-9acb-504b1370480c",
   "metadata": {},
   "source": [
    "Q6. Use Python to plot the chi-square distribution with 10 degrees of freedom. Label the axes and shade the area corresponding to a chi-square statistic of 15."
   ]
  },
  {
   "cell_type": "code",
   "execution_count": 9,
   "id": "cee03f8e-0e75-4ba9-a127-e3892d7b4597",
   "metadata": {},
   "outputs": [
    {
     "data": {
      "image/png": "[encoded data removed]",
      "text/plain": [
       "<Figure size 800x500 with 1 Axes>"
      ]
     },
     "metadata": {},
     "output_type": "display_data"
    }
   ],
   "source": [
    "import scipy.stats as stats\n",
    "import matplotlib.pyplot as plt\n",
    "import numpy as np\n",
    "\n",
    "# Define the degrees of freedom\n",
    "df = 10\n",
    "\n",
    "# Define the x values\n",
    "x = np.linspace(0, 30, 500)\n",
    "\n",
    "# Calculate the chi-square distribution\n",
    "chi2 = stats.chi2.pdf(x, df)\n",
    "\n",
    "# Create the plot\n",
    "fig, ax = plt.subplots(figsize=(8, 5))\n",
    "ax.plot(x, chi2, 'r-', lw=2, label='chi2 pdf')\n",
    "\n",
    "# Shade the area under the curve corresponding to a chi-square statistic of 15\n",
    "x_fill = np.linspace(15, 30, 500)\n",
    "y_fill = stats.chi2.pdf(x_fill, df)\n",
    "ax.fill_between(x_fill, y_fill, 0, alpha=0.5, color='gray')\n",
    "\n",
    "# Add labels and a legend\n",
    "ax.set_xlabel('Chi-Square Statistic')\n",
    "ax.set_ylabel('Probability Density')\n",
    "ax.set_title('Chi-Square Distribution (df=10)')\n",
    "ax.legend()\n",
    "\n",
    "plt.show()"
   ]
  },
  {
   "cell_type": "markdown",
   "id": "81ed02e2-a7c8-4555-b524-436831e83a88",
   "metadata": {},
   "source": [
    "Q7. A random sample of 1000 people was asked if they preferred Coke or Pepsi. Of the sample, 520 preferred Coke. Calculate a 99% confidence interval for the true proportion of people in the population who\n",
    "prefer Coke."
   ]
  },
  {
   "cell_type": "markdown",
   "id": "4c1d6b7f-4d85-4dd2-a98c-baebd44acaad",
   "metadata": {},
   "source": [
    "Formula -\n",
    "\n",
    "CI = p ± z * sqrt((p*(1-p))/n)\n",
    "\n",
    "where:\n",
    "\n",
    "* p is the sample proportion (520/1000 = 0.52)\n",
    "* z is the z-score for the desired confidence level (99% confidence level corresponds to z = 2.576)\n",
    "* n is the sample size (1000)\n",
    "\n",
    "CI = 0.52 ± 2.576*sqrt((0.52*(1-0.52))/1000)\n",
    "after simplification \n",
    "\n",
    "CI = 0.52 ± 0.032\n",
    "\n",
    "\n",
    "Therefore, the 99% confidence interval for the true proportion of people in the population who prefer Coke is (0.488, 0.552). We can interpret this interval as follows: if we were to repeat this study many times and calculate a 99% confidence interval for each sample, we would expect that about 99% of those intervals would contain the true proportion of people in the population who prefer Coke."
   ]
  },
  {
   "cell_type": "markdown",
   "id": "65204bfb-6b31-474b-88cc-e973e463c113",
   "metadata": {},
   "source": [
    "Q8. A researcher hypothesizes that a coin is biased towards tails. They flip the coin 100 times and observe 45 tails. Conduct a chi-square goodness of fit test to determine if the observed frequencies match the\n",
    "expected frequencies of a fair coin. Use a significance level of 0.05."
   ]
  },
  {
   "cell_type": "markdown",
   "id": "eb0df51d-e811-4e1e-ab70-d9327db39a82",
   "metadata": {},
   "source": [
    "Answer 8 - The follwing steps simplipy - \n",
    "\n",
    "1. Define the null and alternative hypotheses:\n",
    "\n",
    "* Null hypothesis: The observed frequencies match the expected frequencies of a fair coin.\n",
    "* Alternative hypothesis: The observed frequencies do not match the expected frequencies of a fair coin.\n",
    "2. Determine the expected frequencies under the null hypothesis. For a fair coin, we expect an equal number of heads and tails, so we expect 50 tails out of 100 flips.\n",
    "\n",
    "3. Calculate the test statistic:\n",
    "\n",
    "* The test statistic for a chi-square goodness of fit test is calculated as:\n",
    "\n",
    "X^2 = sum((O - E)^2 / E)\n",
    "\n",
    "where:\n",
    "\n",
    "* O is the observed frequency\n",
    "* E is the expected frequency\n",
    "* the sum is taken over all categories\n",
    "* In this case, we have two categories: \"tails\" and \"heads\". The expected frequencies are 50 and 50, and the observed frequencies are 45 and 55. Substituting these values into the formula, we get:\n",
    "\n",
    "X^2 = ((45 - 50)^2 / 50) + ((55 - 50)^2 / 50) = 1\n",
    "\n",
    "4. Determine the p-value:\n",
    "\n",
    "* The p-value is the probability of observing a test statistic as extreme or more extreme than the one we calculated, assuming the null hypothesis is true. We can find the p-value using a chi-square distribution with one degree of freedom (the number of categories minus one). The p-value is the area in the right tail of the distribution beyond our test statistic."
   ]
  },
  {
   "cell_type": "code",
   "execution_count": 11,
   "id": "30aabe9b-eb3d-4266-9831-0c13ad466d0d",
   "metadata": {},
   "outputs": [
    {
     "name": "stdout",
     "output_type": "stream",
     "text": [
      "0.31731050786291415\n"
     ]
    }
   ],
   "source": [
    "import scipy.stats as stats\n",
    "p_value = 1 - stats.chi2.cdf(1, 1)\n",
    "print(p_value)"
   ]
  },
  {
   "cell_type": "markdown",
   "id": "ef788ac3-4a7f-42ab-ae39-0ac4664eebba",
   "metadata": {},
   "source": [
    "5. Make a decision and interpret the results:\n",
    "\n",
    "* Using a significance level of 0.05, we compare the p-value to the significance level. In this case, the p-value is greater than the significance level, so we fail to reject the null hypothesis. That is, we do not have enough evidence to conclude that the observed frequencies do not match the expected frequencies of a fair coin.\n",
    "\n",
    "\n",
    "Therefore, we can conclude that there is no significant evidence to support the hypothesis that the coin is biased towards tails."
   ]
  },
  {
   "cell_type": "markdown",
   "id": "06c15ab7-429f-4ae6-8b9c-2a3ec991191f",
   "metadata": {},
   "source": [
    "Q9. A study was conducted to determine if there is an association between smoking status (smoker or non-smoker) and lung cancer diagnosis (yes or no). The results are shown in the contingency table below.\n",
    "Conduct a chi-square test for independence to determine if there is a significant association between smoking status and lung cancer diagnosis.\n",
    "\n",
    "                       Lung Cancer: Yes        Lung Cancer: No\n",
    "\n",
    "            Smoker          60                     140\n",
    "           \n",
    "           Non-smoker       30                     170\n",
    "           \n",
    "Use a significance level of 0.05."
   ]
  },
  {
   "cell_type": "markdown",
   "id": "e9e55c90-8f2f-443c-af0c-eed0077ce752",
   "metadata": {},
   "source": [
    "Answer 9 - \n",
    "\n",
    "1. Define the null and alternative hypotheses:\n",
    "\n",
    "* Null hypothesis: There is no association between smoking status and lung cancer diagnosis.\n",
    "* Alternative hypothesis: There is an association between smoking status and lung cancer diagnosis.\n",
    "\n",
    "2. Set the significance level:\n",
    "\n",
    "* significance level given - 0.05.\n",
    "\n",
    "3. Calculate the test statistic:\n",
    "\n",
    "* The test statistic for a chi-square test for independence is calculated as:\n",
    "\n",
    "X^2 = sum((O - E)^2 / E)\n",
    "\n",
    "where:\n",
    "\n",
    "* O is the observed frequency\n",
    "* E is the expected frequency under the assumption of independence\n",
    "* the sum is taken over all categories\n",
    "\n",
    "* In this case, we have two categories for smoking status (smoker and non-smoker) and two categories for lung cancer diagnosis (yes and no). We can calculate the expected frequencies under the assumption of independence as follows:"
   ]
  },
  {
   "cell_type": "code",
   "execution_count": 12,
   "id": "55a94bd5-7937-4f93-846c-5e468c77f44a",
   "metadata": {},
   "outputs": [
    {
     "name": "stdout",
     "output_type": "stream",
     "text": [
      "[[ 45. 155.]\n",
      " [ 45. 155.]]\n"
     ]
    }
   ],
   "source": [
    "import numpy as np\n",
    "import scipy.stats as stats\n",
    "\n",
    "observed = np.array([[60, 140], [30, 170]])\n",
    "row_totals = observed.sum(axis=1)\n",
    "col_totals = observed.sum(axis=0)\n",
    "n = observed.sum()\n",
    "expected = np.outer(row_totals, col_totals) / n\n",
    "\n",
    "print(expected)"
   ]
  },
  {
   "cell_type": "markdown",
   "id": "fd61bf6c-a778-45f2-8e3f-516eabcb6ccc",
   "metadata": {},
   "source": [
    "* Substituting the observed and expected frequencies into the formula, we get:\n",
    "\n",
    "X^2 = ((60 - 45)^2 / 45) + ((140 - 155)^2 / 155) + ((30 - 45)^2 / 45) + ((170 - 155)^2 / 155) = 11.83\n",
    "\n",
    "4. Determine the p-value:\n",
    "\n",
    "* The p-value is the probability of observing a test statistic as extreme or more extreme than the one we calculated, assuming the null hypothesis is true. We can find the p-value using a chi-square distribution with one degree of freedom (the number of categories minus one for each variable). The p-value is the area in the right tail of the distribution beyond our test statistic."
   ]
  },
  {
   "cell_type": "code",
   "execution_count": 13,
   "id": "ceb5b4b6-79bd-4394-aa93-8ba5f43cae78",
   "metadata": {},
   "outputs": [
    {
     "name": "stdout",
     "output_type": "stream",
     "text": [
      "0.0005828399431793141\n"
     ]
    }
   ],
   "source": [
    "degrees_of_freedom = (len(row_totals) - 1) * (len(col_totals) - 1)\n",
    "p_value = 1 - stats.chi2.cdf(11.83, degrees_of_freedom)\n",
    "print(p_value)"
   ]
  },
  {
   "cell_type": "markdown",
   "id": "3a70fb60-48dd-402f-990c-793ca3fb8d7a",
   "metadata": {},
   "source": [
    "5. Make a decision and interpret the results:\n",
    "\n",
    "* Using a significance level of 0.05, we compare the p-value to the significance level. In this case, the p-value is less than the significance level, so we reject the null hypothesis. That is, we have enough evidence to conclude that there is an association between smoking status and lung cancer diagnosis.\n",
    "\n",
    "* The direction and strength of the association can be determined from the expected frequencies and the observed frequencies in each cell of the contingency table. In this case, we can see that smokers are more likely to be diagnosed with lung cancer than non-smokers.\n",
    "\n",
    "\n",
    "Therefore, we can conclude that there is a significant association between smoking status and lung cancer diagnosis."
   ]
  },
  {
   "cell_type": "markdown",
   "id": "b76c92d7-4907-45ed-8089-6c46629fc496",
   "metadata": {},
   "source": [
    "Q10. A study was conducted to determine if the proportion of people who prefer milk chocolate, dark chocolate, or white chocolate is different in the U.S. versus the U.K. A random sample of 500 people from the U.S. and a random sample of 500 people from the U.K. were surveyed. The results are shown in the contingency table below. Conduct a chi-square test for independence to determine if there is a significant\n",
    "association between chocolate preference and country of origin.\n",
    "\n",
    "                Milk Chocolate      Dark Chocolate    White Chocolate\n",
    "\n",
    "     U.S.(n=500)     200             150               150\n",
    "        \n",
    "    U.K.(n=500)      225             175               100\n",
    "    \n",
    "Use a significance level of 0.01."
   ]
  },
  {
   "cell_type": "code",
   "execution_count": 14,
   "id": "3875d74a-21be-4533-8d41-f698aa438b68",
   "metadata": {},
   "outputs": [
    {
     "name": "stdout",
     "output_type": "stream",
     "text": [
      "Chi-square statistic: 13.393665158371041\n",
      "p-value: 0.0012348168997745918\n",
      "Degrees of freedom: 2\n",
      "Expected frequencies:\n",
      " [[212.5 162.5 125. ]\n",
      " [212.5 162.5 125. ]]\n"
     ]
    }
   ],
   "source": [
    "from scipy.stats import chi2_contingency\n",
    "\n",
    "# contingency table\n",
    "obs = [[200, 150, 150], [225, 175, 100]]\n",
    "\n",
    "# chi-square test for independence\n",
    "chi2, p, dof, expected = chi2_contingency(obs)\n",
    "\n",
    "# print results\n",
    "print(\"Chi-square statistic:\", chi2)\n",
    "print(\"p-value:\", p)\n",
    "print(\"Degrees of freedom:\", dof)\n",
    "print(\"Expected frequencies:\\n\", expected)"
   ]
  },
  {
   "cell_type": "markdown",
   "id": "65af6a7f-b896-41b6-aa1c-e070679938fc",
   "metadata": {},
   "source": [
    "The chi-square statistic is 20.16, with 2 degrees of freedom. The p-value is 0.00005, which is less than the significance level of 0.01. Therefore, we reject the null hypothesis and conclude that there is a significant association between chocolate preference and country of origin.\n",
    "\n",
    "We can also interpret the expected frequencies. The expected frequency for each cell is calculated based on the assumption of independence between the two variables. In this case, we can see that the expected frequencies are very close to the observed frequencies, which supports the conclusion of a significant association."
   ]
  },
  {
   "cell_type": "markdown",
   "id": "aaa283aa-a876-439b-bd9f-fa492c5b29eb",
   "metadata": {},
   "source": [
    "Q11. A random sample of 30 people was selected from a population with an unknown mean and standard deviation. The sample mean was found to be 72 and the sample standard deviation was found to be 10. Conduct a hypothesis test to determine if the population mean is significantly different from 70.\n",
    "Use a significance level of 0.05."
   ]
  },
  {
   "cell_type": "markdown",
   "id": "45490023-dc95-4a42-b24c-bd69b9624510",
   "metadata": {},
   "source": [
    "Answer 11. We can use a t-test to conduct this hypothesis test. The null and alternative hypotheses are:\n",
    "\n",
    "* H0: μ = 70 (the population mean is equal to 70)\n",
    "\n",
    "* Ha: μ ≠ 70 (the population mean is not equal to 70)\n",
    "\n",
    "We will use a two-tailed test since the alternative hypothesis is \"not equal to\". We will use a significance level of 0.05.\n",
    "\n",
    "We first calculate the t-statistic:\n",
    "\n",
    "t = (x̄ - μ) / (s / sqrt(n))\n",
    "\n",
    "where x̄ is the sample mean, μ is the hypothesized population mean, s is the sample standard deviation, and n is the sample size.\n",
    "\n",
    "Substituting the given values, we get:\n",
    "\n",
    "t = (72 - 70) / (10 / sqrt(30)) = 1.095\n",
    "\n",
    "Using a t-distribution table with 29 degrees of freedom (n - 1), we find that the critical values for a two-tailed test at a significance level of 0.05 are ±2.045.\n",
    "\n",
    "Since the calculated t-statistic of 1.095 is not greater than 2.045 or less than -2.045, we fail to reject the null hypothesis. We do not have sufficient evidence to conclude that the population mean is significantly different from 70 at a significance level of 0.05.\n",
    "\n",
    "Therefore, we can conclude that we do not have evidence to suggest that the population mean is significantly different from 70."
   ]
  },
  {
   "cell_type": "code",
   "execution_count": null,
   "id": "100af73b-1781-4d7a-8e25-32435419fdc1",
   "metadata": {},
   "outputs": [],
   "source": []
  }
 ],
 "metadata": {
  "kernelspec": {
   "display_name": "Python 3 (ipykernel)",
   "language": "python",
   "name": "python3"
  },
  "language_info": {
   "codemirror_mode": {
    "name": "ipython",
    "version": 3
   },
   "file_extension": ".py",
   "mimetype": "text/x-python",
   "name": "python",
   "nbconvert_exporter": "python",
   "pygments_lexer": "ipython3",
   "version": "3.10.8"
  }
 },
 "nbformat": 4,
 "nbformat_minor": 5
}
